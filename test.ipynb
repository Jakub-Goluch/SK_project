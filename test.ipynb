{
 "cells": [
  {
   "cell_type": "code",
   "execution_count": 2,
   "metadata": {},
   "outputs": [],
   "source": [
    "import scipy as sp\n",
    "import pandas\n",
    "import numpy as np"
   ]
  },
  {
   "cell_type": "code",
   "execution_count": 27,
   "metadata": {},
   "outputs": [
    {
     "name": "stdout",
     "output_type": "stream",
     "text": [
      "[[40 50 60 70]\n",
      " [ 1  2  3  4]\n",
      " [ 2  2  3  5]]\n",
      "[20 10 10  5 15 10 15  5  5 15 20 15 15 10 10 15 20 20 15 10]\n"
     ]
    }
   ],
   "source": [
    "baggage_type = [40,50,60,70]\n",
    "hours_rented = [1,2,3,4]\n",
    "hours_finally_rented = [1+1,2,3,4+1]\n",
    "\n",
    "matrix = np.array([baggage_type,hours_rented,hours_finally_rented])\n",
    "print(matrix)\n",
    "\n",
    "\n",
    "available_space_values = [5,10,15,20]\n",
    "available_space = np.random.choice(available_space_values, 20)\n",
    "print(available_space)"
   ]
  }
 ],
 "metadata": {
  "kernelspec": {
   "display_name": "Python 3.10.5 64-bit",
   "language": "python",
   "name": "python3"
  },
  "language_info": {
   "codemirror_mode": {
    "name": "ipython",
    "version": 3
   },
   "file_extension": ".py",
   "mimetype": "text/x-python",
   "name": "python",
   "nbconvert_exporter": "python",
   "pygments_lexer": "ipython3",
   "version": "3.10.5"
  },
  "orig_nbformat": 4,
  "vscode": {
   "interpreter": {
    "hash": "10e257035441dbd5e530fd161ea265e92fc15dc932179a308787324eaedaeb4b"
   }
  }
 },
 "nbformat": 4,
 "nbformat_minor": 2
}
